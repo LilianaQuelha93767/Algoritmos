{
 "cells": [
  {
   "cell_type": "markdown",
   "id": "7c0cd60c",
   "metadata": {},
   "source": [
    "## Manifesto do TPC3\n",
    "* *Identificador:* Algoritmos e Técnicas de Programação\n",
    "* *Título:* Bubble sort List\n",
    "* *Data de início:* 2021-10-27\n",
    "* *Data de fim:* 2021-10-27\n",
    "* *Supervisor:* José Carlos Leite Ramalho, jcr@di.uminho.pt\n",
    "* *Autor:* Liliana Miranda Quelha A93767\n",
    "* *Resumo:* Este trabalho tem como objetivo gerar uma lista aleatória que demonstre a lista no seu estado não ordenado e também que demonstre a lista no seu estado ordenado utilizando o **Bubble Sort**, devido a este algoritmo trocar repetidamente os elementos adjacentes da lista se estes tiverem na ordem errada."
   ]
  },
  {
   "cell_type": "code",
   "execution_count": 2,
   "id": "d6620a64",
   "metadata": {},
   "outputs": [
    {
     "name": "stdout",
     "output_type": "stream",
     "text": [
      "Introduza o número de elementos que constituem a sua lista: 4\n",
      "Introduza o elemento que quer adicionar: 24\n",
      "Introduza o elemento que quer adicionar: 65\n",
      "Introduza o elemento que quer adicionar: 43\n",
      "Introduza o elemento que quer adicionar: 12\n",
      "A lista não ordenada é:  [24.0, 65.0, 43.0, 12.0]\n",
      "A lista ordenada é:  [12.0, 24.0, 43.0, 65.0]\n"
     ]
    }
   ],
   "source": [
    "n = int(input(\"Introduza o número de elementos que constituem a sua lista: \"))\n",
    "list1 = []\n",
    "for i in range (n):\n",
    "    number = float(input(\"Introduza o elemento que quer adicionar: \"))\n",
    "    list1.append(number)\n",
    "print(\"A lista não ordenada é: \", list1)\n",
    "\n",
    "def Bubble_Sort(list1):\n",
    "    for i in range (0, len(list1)-1):\n",
    "        for j in range (len(list1)-1):\n",
    "            if (list1[j] > list1[j+1]):\n",
    "                temp = list1[j]\n",
    "                list1 [j] = list1 [j+1]\n",
    "                list1 [j+1] = temp\n",
    "    return list1\n",
    "Bubble_Sort(list1)\n",
    "print(\"A lista ordenada é: \", Bubble_Sort(list1))"
   ]
  },
  {
   "cell_type": "code",
   "execution_count": null,
   "id": "1b16796e",
   "metadata": {},
   "outputs": [],
   "source": []
  }
 ],
 "metadata": {
  "kernelspec": {
   "display_name": "Python 3",
   "language": "python",
   "name": "python3"
  },
  "language_info": {
   "codemirror_mode": {
    "name": "ipython",
    "version": 3
   },
   "file_extension": ".py",
   "mimetype": "text/x-python",
   "name": "python",
   "nbconvert_exporter": "python",
   "pygments_lexer": "ipython3",
   "version": "3.8.8"
  }
 },
 "nbformat": 4,
 "nbformat_minor": 5
}
