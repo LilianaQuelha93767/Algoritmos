{
 "cells": [
  {
   "cell_type": "markdown",
   "id": "70913673",
   "metadata": {},
   "source": [
    "## Manifesto do TPC6\n",
    "* *Identificador:* Algoritmos e Técnicas de Programação\n",
    "* *Título:* Gráficos de Polinómios\n",
    "* *Data de início:* 2021-11-23\n",
    "* *Data de fim:* 2021-11-15\n",
    "* *Supervisor:* José Carlos Leite Ramalho, jcr@di.uminho.pt\n",
    "* *Autor:* Liliana Miranda Quelha A93767\n",
    "* *Resumo:* Este trabalho tem como objetivo criar uma aplicação que cria a representação gráfica de um quadrado centrado na origem com 5 unidades de lado para melhor visualização de resultados."
   ]
  },
  {
   "cell_type": "code",
   "execution_count": 6,
   "id": "31bd0c1a",
   "metadata": {},
   "outputs": [
    {
     "name": "stdout",
     "output_type": "stream",
     "text": [
      "Introduza o número que deseja atribuir a x: 4\n"
     ]
    },
    {
     "data": {
      "image/png": "[encoded data removed]",
      "text/plain": [
       "<Figure size 432x288 with 1 Axes>"
      ]
     },
     "metadata": {
      "needs_background": "light"
     },
     "output_type": "display_data"
    }
   ],
   "source": [
    "def criarTermo(t):\n",
    "    coeficiente = int(input(\"Introduza o coeficiente do Polinómio:\"))\n",
    "    expoente = int(input(\"Introduza o expoente: \"))\n",
    "    term = (coeficiente, expoente)\n",
    "    return term\n",
    "    \n",
    "def criarPolinomio(p):\n",
    "    n = int(input(\"Introduza o comprimento que deseja para o Polinómio: \"))\n",
    "    polinomio = []\n",
    "    i = 0\n",
    "    while i < n:\n",
    "        polinomio.append(verTermo())\n",
    "        i += 1\n",
    "    return polinomio\n",
    "\n",
    "#Calcular um Polinómio para o valor que atribuímos a x\n",
    "x = int(input(\"Introduza o número que deseja atribuir a x: \"))\n",
    "def calcPol(p, x):\n",
    "    valor = 0\n",
    "    for term in p:\n",
    "        coef, exp = term\n",
    "        valor = valor + coef*x**exp\n",
    "    return valor\n",
    "\n",
    "def verPolinomio(p):\n",
    "    res = \"\"\n",
    "    for t in p:\n",
    "        if res == \"\":\n",
    "            res = verTermo(t)\n",
    "        else:\n",
    "            res = res + \"+\" + verTermo(t)\n",
    "    print(res)\n",
    "\n",
    "import matplotlib.pyplot as plt\n",
    " \n",
    "# plotting the points\n",
    "plt.plot(x, color='blue', linestyle='dashed', linewidth = 3,\n",
    "         marker='o', markerfacecolor='red', markersize=12)\n",
    " \n",
    "# setting x and y axis range\n",
    "plt.ylim(1,8)\n",
    "plt.xlim(1,8)\n",
    " \n",
    "# naming the x axis\n",
    "plt.xlabel('Eixo das Abcissas')\n",
    "# naming the y axis\n",
    "plt.ylabel('Eixo das Ordenadas')\n",
    " \n",
    "# Dar um título ao gráfico\n",
    "plt.title('Gráfico Polinomial')\n",
    " \n",
    "# Função que desenha o gráfico\n",
    "plt.show()"
   ]
  },
  {
   "cell_type": "code",
   "execution_count": null,
   "id": "7b91f1dd",
   "metadata": {},
   "outputs": [],
   "source": []
  }
 ],
 "metadata": {
  "kernelspec": {
   "display_name": "Python 3",
   "language": "python",
   "name": "python3"
  },
  "language_info": {
   "codemirror_mode": {
    "name": "ipython",
    "version": 3
   },
   "file_extension": ".py",
   "mimetype": "text/x-python",
   "name": "python",
   "nbconvert_exporter": "python",
   "pygments_lexer": "ipython3",
   "version": "3.8.8"
  }
 },
 "nbformat": 4,
 "nbformat_minor": 5
}
