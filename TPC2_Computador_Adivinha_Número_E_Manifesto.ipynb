{
 "cells": [
  {
   "cell_type": "markdown",
   "id": "9439a655",
   "metadata": {},
   "source": [
    "## Manifesto do TPC2\n",
    "* *Identificador:* Algoritmos e Técnicas de Programação\n",
    "* *Título:* Jogo de Adivinha o Nº em que estou a Pensar\n",
    "* *Data de início:* 2021-10-17\n",
    "* *Data de fim:* 2021-10-19\n",
    "* *Supervisor:* José Carlos Leite Ramalho, jcr@di.uminho.pt\n",
    "* *Autor:* Liliana Miranda Quelha A9376\n",
    "* *Resumo:* Este trabalho tem como objetivo desenvolver um jogo em que o computador adivinha o número em que estamos a pensar através da procura binária."
   ]
  },
  {
   "cell_type": "code",
   "execution_count": null,
   "id": "787e1621",
   "metadata": {},
   "outputs": [],
   "source": [
    "def adivinha_numero(numero):\n",
    "    esquerda = 0\n",
    "    direita = 100\n",
    "    adivinha = (esquerda+direita)//2\n",
    "    while adivinha != numero:\n",
    "        adivinha = (esquerda+direita)//2\n",
    "        print(\"O computador está a tentar adivinhar o número em que pensou...\", adivinha)\n",
    "        if adivinha > numero:\n",
    "            direita = adivinha\n",
    "        elif adivinha < numero:\n",
    "            esquerda = adivinha + 1\n",
    "    print(\"O computator escolheu o número\", adivinha, \"e escolheu correctamente!\")\n",
    "            \n",
    "def main():\n",
    "    numero = int(input(\"Insira o número em que pensou:\"))\n",
    "    if numero < 0 or numero > 100:\n",
    "        print(\"O número deve ser entre 1 e 100.\")\n",
    "    else:\n",
    "        adivinha_numero(numero)\n",
    "if __name__ == '__main__':\n",
    "    main()"
   ]
  },
  {
   "cell_type": "code",
   "execution_count": null,
   "id": "f827068a",
   "metadata": {},
   "outputs": [],
   "source": []
  }
 ],
 "metadata": {
  "kernelspec": {
   "display_name": "Python 3",
   "language": "python",
   "name": "python3"
  },
  "language_info": {
   "codemirror_mode": {
    "name": "ipython",
    "version": 3
   },
   "file_extension": ".py",
   "mimetype": "text/x-python",
   "name": "python",
   "nbconvert_exporter": "python",
   "pygments_lexer": "ipython3",
   "version": "3.8.8"
  }
 },
 "nbformat": 4,
 "nbformat_minor": 5
}
