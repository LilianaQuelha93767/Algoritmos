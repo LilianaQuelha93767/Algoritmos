{
 "cells": [
  {
   "cell_type": "markdown",
   "id": "5b912f2b",
   "metadata": {},
   "source": [
    "## Manifesto do TPC8\n",
    "* *Identificador:* Algoritmos e Técnicas de Programação\n",
    "* *Título:* Teste de Aferição\n",
    "* *Data de início:* 2023-11-03\n",
    "* *Data de fim:* 2023-11-06\n",
    "* *Supervisor:* José Carlos Leite Ramalho, jcr@di.uminho.pt; Luís Filipe Costa Cunha, lfc@di.uminho.pt\n",
    "* *Autor:* Liliana Miranda Quelha A93767\n",
    "\n",
    "*Resumo:* Resolução dos problemas apresentados:\n",
    "\n",
    "[TPC1] - Especifique as listas em compreensão.\n",
    "\n",
    "[TPC2] - Realização de tarefas relacionadas com funções.\n",
    "\n",
    "[TPC3] - Este trabalho tem como objetivo desenvolver uma aplicação de manipulação e consulta da informação de uma rede social que está armazenada numa lista de dicionários. Para esse objetivo, o programa terá as seguintes funções:\n",
    "\n",
    "*   Contagem de posts registados;\n",
    "*   Listagem de posts de um determinado autor;\n",
    "*   Listagem de autores de posts ordenada alfabeticamente;\n",
    "*   Adição de um novo post à rede social a partir dos parâmetros recebidos e devolve a nova rede social;\n",
    "*   Remoção de um post da rede correspondente ao id colocado;\n",
    "*   Devolução da distribuição de posts por autor;\n",
    "*   Identificação da lista de posts comentados por um dado autor;"
   ]
  },
  {
   "cell_type": "markdown",
   "id": "52290de8",
   "metadata": {},
   "source": [
    "### TPC1 -  Especifique as seguintes listas em compreensão:"
   ]
  },
  {
   "cell_type": "markdown",
   "id": "abe7a54c",
   "metadata": {},
   "source": [
    "#### a) Lista formada pelos elementos que não são comuns às duas listas:"
   ]
  },
  {
   "cell_type": "code",
   "execution_count": 5,
   "id": "4ff3bc16",
   "metadata": {},
   "outputs": [
    {
     "name": "stdout",
     "output_type": "stream",
     "text": [
      "[1, 2, 3, 6, 7, 8]\n"
     ]
    }
   ],
   "source": [
    "lista1 = [1, 2, 3, 4, 5]\n",
    "lista2 = [4, 5, 6, 7, 8]\n",
    "\n",
    "comuns = [x for x in lista1 + lista2 if (x not in lista1) or (x not in lista2)]\n",
    "\n",
    "print(comuns)"
   ]
  },
  {
   "cell_type": "code",
   "execution_count": null,
   "id": "0b6804da",
   "metadata": {},
   "outputs": [],
   "source": [
    "lista1 = [1, 2, 3, 4, 5]\n",
    "lista2 = [4, 5, 6, 7, 8]  \n",
    "comuns = [...]\n",
    "# Resultado esperado: [1,2,3,6,7,8]"
   ]
  },
  {
   "cell_type": "markdown",
   "id": "0aef448b",
   "metadata": {},
   "source": [
    "#### b) Lista formada pelas palavras do texto compostas por mais de 3 letras:"
   ]
  },
  {
   "cell_type": "code",
   "execution_count": 7,
   "id": "1591ebb3",
   "metadata": {},
   "outputs": [
    {
     "name": "stdout",
     "output_type": "stream",
     "text": [
      "['Vivia', 'poucos', 'anos', 'algures', 'concelho', 'Ribatejo', 'pequeno', 'lavrador', 'negociante', 'gado', 'chamado', 'Manuel', 'Peres', 'Vigário']\n"
     ]
    }
   ],
   "source": [
    "texto = \"\"\"Vivia há já não poucos anos algures num concelho do Ribatejo \n",
    "    um pequeno lavrador e negociante de gado chamado Manuel Peres Vigário\"\"\"\n",
    "palavras = texto.split()  # Divide o texto em palavras\n",
    "lista = [palavra for palavra in palavras if len(palavra) > 3]\n",
    "print(lista)"
   ]
  },
  {
   "cell_type": "code",
   "execution_count": 2,
   "id": "7aaad180",
   "metadata": {},
   "outputs": [],
   "source": [
    "texto = \"\"\"Vivia há já não poucos anos algures num concelho do Ribatejo \n",
    "    um pequeno lavrador e negociante de gado chamado Manuel Peres Vigário\"\"\"\n",
    "lista = [...]\n",
    "# Resultado esperado: ['Vivia', 'poucos', 'anos', 'algures', 'concelho', ...]"
   ]
  },
  {
   "cell_type": "markdown",
   "id": "576f101c",
   "metadata": {},
   "source": [
    "#### c) Lista formada por pares do tipo (índice, valor) com os valores da lista dada:"
   ]
  },
  {
   "cell_type": "code",
   "execution_count": 11,
   "id": "451d262b",
   "metadata": {},
   "outputs": [
    {
     "name": "stdout",
     "output_type": "stream",
     "text": [
      "[(1, 'anaconda'), (2, 'burro'), (3, 'cavalo'), (4, 'macaco')]\n"
     ]
    }
   ],
   "source": [
    "lista = ['anaconda', 'burro', 'cavalo', 'macaco']\n",
    "listaRes = [(i + 1, lista[i]) for i in range(len(lista))]\n",
    "print(listaRes)"
   ]
  },
  {
   "cell_type": "code",
   "execution_count": 3,
   "id": "f36c6b2d",
   "metadata": {},
   "outputs": [],
   "source": [
    "lista = ['anaconda', 'burro', 'cavalo', 'macaco']\n",
    "listaRes = [...]\n",
    "# Resultado esperado: [(1,'anaconda'), (2,'burro'), (3,'cavalo'), (4,'macaco')]"
   ]
  },
  {
   "cell_type": "markdown",
   "id": "d493de18",
   "metadata": {},
   "source": [
    "### TPC2 - À semelhança do que foi feito nas aulas, realize as seguintes tarefas:"
   ]
  },
  {
   "cell_type": "markdown",
   "id": "3bfb408c",
   "metadata": {},
   "source": [
    "#### a) Especifique uma função que dada uma string e uma substring não vazia, calcula  o número de vezes em que a substring aparece na string, sem que haja sobreposição de substrings:"
   ]
  },
  {
   "cell_type": "code",
   "execution_count": 12,
   "id": "9e4d2fc7",
   "metadata": {},
   "outputs": [
    {
     "name": "stdout",
     "output_type": "stream",
     "text": [
      "2\n",
      "1\n",
      "0\n"
     ]
    }
   ],
   "source": [
    "def strCount(s, subs):\n",
    "    count = 0\n",
    "    start = 0\n",
    "    index = s.find(subs, start)\n",
    "    while index != -1:\n",
    "        count += 1\n",
    "        start = index + 1\n",
    "        index = s.find(subs, start)\n",
    "    return count\n",
    "print(strCount(\"catcowcat\", \"cat\"))\n",
    "print(strCount(\"catcowcat\", \"cow\"))  \n",
    "print(strCount(\"catcowcat\", \"dog\")) "
   ]
  },
  {
   "cell_type": "code",
   "execution_count": null,
   "id": "aab14680",
   "metadata": {},
   "outputs": [],
   "source": [
    "def strCount(s, subs):\n",
    "    # ... \n",
    "    return \n",
    "\n",
    "strCount(\"catcowcat\", \"cat\") # --> 2\n",
    "strCount(\"catcowcat\", \"cow\") # --> 1\n",
    "strCount(\"catcowcat\", \"dog\") # --> 0"
   ]
  },
  {
   "cell_type": "markdown",
   "id": "ce49008c",
   "metadata": {},
   "source": [
    "#### b) Especifique uma função que recebe uma lista de números inteiros positivos e devolve o menor produto que for possível calcular multiplicando os 3 menores inteiros da lista:"
   ]
  },
  {
   "cell_type": "code",
   "execution_count": 13,
   "id": "5cbcc297",
   "metadata": {},
   "outputs": [
    {
     "name": "stdout",
     "output_type": "stream",
     "text": [
      "168\n"
     ]
    }
   ],
   "source": [
    "def produtoM3(lista):\n",
    "    lista.sort()  # Classifica a lista em ordem crescente\n",
    "    menor_produto = lista[0] * lista[1] * lista[2]\n",
    "    return menor_produto\n",
    "print(produtoM3([12, 3, 7, 10, 12, 8, 9]))"
   ]
  },
  {
   "cell_type": "code",
   "execution_count": null,
   "id": "74159c36",
   "metadata": {},
   "outputs": [],
   "source": [
    "def produtoM3(lista):\n",
    "    # ... \n",
    "    return  \n",
    "\n",
    "print(produtoM3([12,3,7,10,12,8,9]))\n",
    "# Resultado esperado: 168 = 3 * 7 * 8"
   ]
  },
  {
   "cell_type": "markdown",
   "id": "d6dfde13",
   "metadata": {},
   "source": [
    "#### c) Especifique uma função que dado um número inteiro positivo, repetidamente adiciona os seus dígitos até obter apenas um dígito que é retornado como resultado:"
   ]
  },
  {
   "cell_type": "code",
   "execution_count": 14,
   "id": "b7292376",
   "metadata": {},
   "outputs": [
    {
     "name": "stdout",
     "output_type": "stream",
     "text": [
      "2\n",
      "3\n"
     ]
    }
   ],
   "source": [
    "def reduxInt(n):\n",
    "    while n >= 10:\n",
    "        n = sum(int(digit) for digit in str(n))\n",
    "    return n\n",
    "print(reduxInt(38))\n",
    "print(reduxInt(777))"
   ]
  },
  {
   "cell_type": "code",
   "execution_count": null,
   "id": "5011fe15",
   "metadata": {},
   "outputs": [],
   "source": [
    "# Input: 38\n",
    "# Output: 2\n",
    "# Explicação: 3 + 8 = 11, 1 + 1 = 2.\n",
    "\n",
    "# Input: 777\n",
    "# Output: 3\n",
    "# Explicação: 7 + 7 + 7 = 21, 2 + 1 = 3.\n",
    "\n",
    "def reduxInt(n):\n",
    "    # ...\n",
    "    return "
   ]
  },
  {
   "cell_type": "markdown",
   "id": "778f1b0f",
   "metadata": {},
   "source": [
    "#### d) Especifique uma função que recebe duas strings, `string1` e `string2`, e devolve o índice da primeira ocorrência de `string2` em `string1`, caso não ocorra nenhuma vez a função deverá retornar `-1`:"
   ]
  },
  {
   "cell_type": "code",
   "execution_count": 15,
   "id": "815288db",
   "metadata": {},
   "outputs": [
    {
     "name": "stdout",
     "output_type": "stream",
     "text": [
      "13\n",
      "-1\n"
     ]
    }
   ],
   "source": [
    "def myIndexOf(s1, s2):\n",
    "    if s2 not in s1:\n",
    "        return -1\n",
    "    else:\n",
    "        return s1.index(s2)\n",
    "\n",
    "# Exemplos de uso:\n",
    "print(myIndexOf(\"Hoje está um belo dia de sol!\", \"belo\")) \n",
    "print(myIndexOf(\"Hoje está um belo dia de sol!\", \"chuva\"))  "
   ]
  },
  {
   "cell_type": "code",
   "execution_count": null,
   "id": "c54c9ed0",
   "metadata": {},
   "outputs": [],
   "source": [
    "# Invocação: indexOf(\"Hoje está um belo dia de sol!\", \"belo\")\n",
    "# Resultado: 13\n",
    "\n",
    "# Invocação: indexOf(\"Hoje está um belo dia de sol!\", \"chuva\")\n",
    "# Resultado: -1\n",
    "\n",
    "def myIndexOf(s1, s2):\n",
    "    # ...\n",
    "    return"
   ]
  },
  {
   "cell_type": "markdown",
   "id": "1b19e0d2",
   "metadata": {},
   "source": [
    "### TPC3 - A Rede Social - Defina as seguintes funções de manipulação e consulta da rede social:"
   ]
  },
  {
   "cell_type": "markdown",
   "id": "8de4e4e0",
   "metadata": {},
   "source": [
    "Cada dicionário, correspondente a um _post_ e tem chaves `id`, `conteudo`, `autor`, `dataCriacao` e `comentarios`.\n",
    "Por sua vez, `comentarios` é uma lista de dicionários com chaves `comentario` e `autor`.\n",
    "\n",
    "Considere o seguinte exemplo:\n",
    "\n",
    "``` \n",
    "    MyFaceBook = [{\n",
    "        'id': 'p1', \n",
    "        'conteudo': 'A tarefa de avaliação é talvez a mais ingrata das tarefas que um professor\n",
    "    tem de realizar...', \n",
    "        'autor': 'jcr', \n",
    "        'dataCriacao': '2023-07-20', \n",
    "        'comentarios': [\n",
    "            {\n",
    "                'comentario': 'Completamente de acordo...',\n",
    "                'autor': 'prh'\n",
    "            },\n",
    "            {\n",
    "                'comentario': 'Mas há quem goste...',\n",
    "                'autor': 'jj'\n",
    "            }\n",
    "        ]},\n",
    "        {\n",
    "            'id': 'p2',\n",
    "            ...\n",
    "        },\n",
    "        ...\n",
    "        ]\n",
    "```"
   ]
  },
  {
   "cell_type": "markdown",
   "id": "5dff98e2",
   "metadata": {},
   "source": [
    "#### a) `quantosPost`, que indica quantos posts estão registados:"
   ]
  },
  {
   "cell_type": "code",
   "execution_count": null,
   "id": "e78f4a01",
   "metadata": {},
   "outputs": [],
   "source": [
    "def quantosPost(redeSocial):\n",
    "    return len(redeSocial)# Função para contar quantos dicionários (posts) estão na lista."
   ]
  },
  {
   "cell_type": "markdown",
   "id": "53f72956",
   "metadata": {},
   "source": [
    "#### b)  `postsAutor`, que devolve a lista de posts de um determinado autor:"
   ]
  },
  {
   "cell_type": "code",
   "execution_count": null,
   "id": "ba74bf21",
   "metadata": {},
   "outputs": [],
   "source": [
    "def postsAutor(redeSocial, autor):\n",
    "    posts_do_autor = []  # Lista vazia para armazenar os posts do autor.\n",
    "    for post in redeSocial:\n",
    "        if post['autor'] == autor:\n",
    "            posts_do_autor.append(post)\n",
    "    return posts_do_autor"
   ]
  },
  {
   "cell_type": "markdown",
   "id": "dec39bbb",
   "metadata": {},
   "source": [
    "#### c) `autores`, que devolve a lista de autores de posts ordenada alfabeticamente:"
   ]
  },
  {
   "cell_type": "code",
   "execution_count": null,
   "id": "5971a23e",
   "metadata": {},
   "outputs": [],
   "source": [
    "def autores(redeSocial):\n",
    "    lista_autores = []  # Lista vazia para armazenar os nomes dos autores.\n",
    "    for post in redeSocial:\n",
    "        autor = post['autor']\n",
    "        if autor not in lista_autores:\n",
    "            lista_autores.append(autor)\n",
    "    lista_autores_ordenada = sorted(lista_autores)  # Ordena a lista alfabeticamente.\n",
    "    return lista_autores_ordenada "
   ]
  },
  {
   "cell_type": "markdown",
   "id": "0226b9e6",
   "metadata": {},
   "source": [
    "#### d) `insPost`, que acrescenta um novo post à rede social a partir dos parâmetros recebidos e devolve a nova rede social. \n",
    "    \n",
    "O campo `id` devrá ser calculado a partir dos já existentes, por exemplo, se a rede tiver posts com id `p1`, `p2` e `p3`, o novo `id` deverá ser `p4`."
   ]
  },
  {
   "cell_type": "code",
   "execution_count": null,
   "id": "d71c50aa",
   "metadata": {},
   "outputs": [],
   "source": [
    "def insPost(redeSocial, conteudo, autor, dataCriacao, comentarios):\n",
    "    # Determina o próximo id disponível com base nos ids existentes.\n",
    "    novo_id = 'p' + str(len(redeSocial) + 1)\n",
    "    # Cria um novo dicionário para o novo post.\n",
    "    novo_post = {\n",
    "        'id': proximo_id,\n",
    "        'conteudo': conteudo,\n",
    "        'autor': autor,\n",
    "        'dataCriacao': dataCriacao,\n",
    "        'comentarios': comentarios\n",
    "    }\n",
    "    # Adiciona o novo post à lista redeSocial.\n",
    "    redeSocial.append(novo_post)\n",
    "    return redeSocial"
   ]
  },
  {
   "cell_type": "markdown",
   "id": "9e2bb0a5",
   "metadata": {},
   "source": [
    "#### e)  `remPost`, que remove um post da rede, correspondente ao `id` digitado."
   ]
  },
  {
   "cell_type": "code",
   "execution_count": null,
   "id": "db541065",
   "metadata": {},
   "outputs": [],
   "source": [
    "def remPost(redeSocial, id):\n",
    "    # Cria uma nova lista de posts excluindo o post com o id correspondente.\n",
    "    nova_redeSocial = [post for post in redeSocial if post['id'] != id]\n",
    "    return nova_redeSocial"
   ]
  },
  {
   "cell_type": "markdown",
   "id": "deb9c2d8",
   "metadata": {},
   "source": [
    "#### f) `postsPorAutor`, que devolve uma distribuição de posts por autor (à semelhança do que foi feito nas aulas)."
   ]
  },
  {
   "cell_type": "code",
   "execution_count": null,
   "id": "add075ed",
   "metadata": {},
   "outputs": [],
   "source": [
    "def postsPorAutor(redeSocial):\n",
    "    distribuicao_posts = {}  # Dicionário para armazenar a distribuição de posts por autor.\n",
    "    for post in redeSocial:\n",
    "        autor = post['autor']\n",
    "        if autor in distribuicao_posts:\n",
    "            distribuicao_posts[autor] += 1  # Contador de posts do autor existente.\n",
    "        else:\n",
    "            distribuicao_posts[autor] = 1  # Contador de posts do novo autor.\n",
    "    return distribuicao_posts"
   ]
  },
  {
   "cell_type": "markdown",
   "id": "14efa1e2",
   "metadata": {},
   "source": [
    "#### g) `comentadoPor`, que recebe um autor e devolve a lista de posts comentados por esse autor."
   ]
  },
  {
   "cell_type": "code",
   "execution_count": null,
   "id": "5e0bc2c1",
   "metadata": {},
   "outputs": [],
   "source": [
    "def comentadoPor(redeSocial, autor):\n",
    "    posts_comentados = []  # Lista vazia para armazenar os posts comentados pelo autor.\n",
    "    for post in redeSocial:\n",
    "        comentarios = post['comentarios']\n",
    "        for comentario in comentarios:\n",
    "            if comentario['autor'] == autor:\n",
    "                posts_comentados.append(post)\n",
    "    return posts_comentados"
   ]
  }
 ],
 "metadata": {
  "kernelspec": {
   "display_name": "Python 3",
   "language": "python",
   "name": "python3"
  },
  "language_info": {
   "codemirror_mode": {
    "name": "ipython",
    "version": 3
   },
   "file_extension": ".py",
   "mimetype": "text/x-python",
   "name": "python",
   "nbconvert_exporter": "python",
   "pygments_lexer": "ipython3",
   "version": "3.8.8"
  }
 },
 "nbformat": 4,
 "nbformat_minor": 5
}
