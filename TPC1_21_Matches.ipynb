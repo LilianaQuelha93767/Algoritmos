{
 "cells": [
  {
   "cell_type": "code",
   "execution_count": 2,
   "id": "6f3bc7c4",
   "metadata": {},
   "outputs": [
    {
     "name": "stdout",
     "output_type": "stream",
     "text": [
      "Você tem 21 fósforos, selecione um número de entre 1 a 4.\n",
      "O último a retirar um fósforo perde.\n",
      "Fósforos restantes:  21\n",
      "Retire entre 1 a 4 fósforos:3\n",
      "O computador retirou:  2\n",
      "Fósforos restantes:  16\n",
      "Retire entre 1 a 4 fósforos:1\n",
      "O computador retirou:  4\n",
      "Fósforos restantes:  11\n",
      "Retire entre 1 a 4 fósforos:4\n",
      "O computador retirou:  1\n",
      "Fósforos restantes:  6\n",
      "Retire entre 1 a 4 fósforos:2\n",
      "O computador retirou:  3\n",
      "Fósforos restantes:  1\n",
      "Retire entre 1 a 4 fósforos:1\n",
      "Retirou o último fósforo. Perdeu o jogo.\n"
     ]
    }
   ],
   "source": [
    "matches = 21\n",
    "\n",
    "print (\"Existem 21 fósforos. Para jogar este jogo deve selecionar um número de entre 1 e 4.\")\n",
    "print (\"O último a retirar um fósforo perde.\")\n",
    "\n",
    "while True:\n",
    "    print ((\"Fósforos restantes: \") , matches)\n",
    "    matches_removed = int(input(\"Retire entre 1 e 4 fósforos:\"))\n",
    "    if matches == 1:\n",
    "        print (\"Retirou o último fósforo. Perdeu o jogo.\")\n",
    "        break\n",
    "    if matches_removed >= 5 or matches_removed <= 0:\n",
    "        print (\"Escolha incorreta. Por favor selecione outro número de entre 1 e 4 fósforos.\")\n",
    "        continue\n",
    "    print (\"O computador escolheu retirar: \" , (5 - matches_removed) )\n",
    "    matches -= 5"
   ]
  },
  {
   "cell_type": "code",
   "execution_count": null,
   "id": "0ffe3f0b",
   "metadata": {},
   "outputs": [],
   "source": []
  }
 ],
 "metadata": {
  "kernelspec": {
   "display_name": "Python 3",
   "language": "python",
   "name": "python3"
  },
  "language_info": {
   "codemirror_mode": {
    "name": "ipython",
    "version": 3
   },
   "file_extension": ".py",
   "mimetype": "text/x-python",
   "name": "python",
   "nbconvert_exporter": "python",
   "pygments_lexer": "ipython3",
   "version": "3.8.8"
  }
 },
 "nbformat": 4,
 "nbformat_minor": 5
}
