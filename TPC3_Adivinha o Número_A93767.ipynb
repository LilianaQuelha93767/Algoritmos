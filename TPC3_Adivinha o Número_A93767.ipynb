{
 "cells": [
  {
   "cell_type": "markdown",
   "id": "9a039328",
   "metadata": {},
   "source": [
    "## Manifesto do TPC3\n",
    "* *Identificador:* Algoritmos e Técnicas de Programação\n",
    "* *Título:* Jogo de Adivinha o Número!\n",
    "* *Data de início:* 2023-10-01\n",
    "* *Data de fim:* 2023-10-01\n",
    "* *Supervisor:* José Carlos Leite Ramalho, jcr@di.uminho.pt; Luís Filipe Costa Cunha, lfc@di.uminho.pt\n",
    "* *Autor:* Liliana Miranda Quelha A93767\n",
    "* *Resumo:* Este trabalho tem como objetivo desenvolver um jogo em que ou o computador adivinha o número em que estamos a pensar ou o utilizador adivinha o número gerado aleatóriamente pelo computador através da **procura binária**. No fim do jogo, o número de tentativas é gerado."
   ]
  },
  {
   "cell_type": "code",
   "execution_count": 8,
   "id": "219105b7",
   "metadata": {},
   "outputs": [
    {
     "name": "stdout",
     "output_type": "stream",
     "text": [
      "Escolha o modo de jogo ('c' para computador ou 'u' para utilizador): c\n",
      "Pense em um número entre 0 e 100: 43\n",
      "O computador adivinhou: 84\n",
      "Acertei? Ou o número é maior? Ou menor? Responda '+', '-' ou 'sim': -\n",
      "O computador adivinhou: 65\n",
      "Acertei? Ou o número é maior? Ou menor? Responda '+', '-' ou 'sim': -\n",
      "O computador adivinhou: 0\n",
      "Acertei? Ou o número é maior? Ou menor? Responda '+', '-' ou 'sim': +\n",
      "O computador adivinhou: 50\n",
      "Acertei? Ou o número é maior? Ou menor? Responda '+', '-' ou 'sim': -\n",
      "O computador adivinhou: 22\n",
      "Acertei? Ou o número é maior? Ou menor? Responda '+', '-' ou 'sim': +\n",
      "O computador adivinhou: 48\n",
      "Acertei? Ou o número é maior? Ou menor? Responda '+', '-' ou 'sim': -\n",
      "O computador adivinhou: 31\n",
      "Acertei? Ou o número é maior? Ou menor? Responda '+', '-' ou 'sim': +\n",
      "O computador adivinhou: 46\n",
      "Acertei? Ou o número é maior? Ou menor? Responda '+', '-' ou 'sim': -\n",
      "O computador adivinhou: 43\n",
      "Acertei? Ou o número é maior? Ou menor? Responda '+', '-' ou 'sim': sim\n",
      "O computator escolheu o número 43 e escolheu correctamente! Acertour em: 9 tentativas\n"
     ]
    }
   ],
   "source": [
    "import random\n",
    "\n",
    "def adivinha_numero_computador():\n",
    "    numero_escolhido = int(input(\"Pense em um número entre 0 e 100: \"))\n",
    "    tentativas = 0\n",
    "    esquerda = 0\n",
    "    direita = 100\n",
    "    while True:\n",
    "        tentativa = random.randint(esquerda, direita)\n",
    "        print(f\"O computador adivinhou: {tentativa}\")\n",
    "        tentativas += 1\n",
    "        resposta = input(\"Acertei? Ou o número é maior? Ou menor? Responda '+', '-' ou 'sim': \").lower()\n",
    "        if resposta == \"sim\":\n",
    "            print(\"O computator escolheu o número\", tentativa, \"e escolheu correctamente! Acertour em:\", tentativas, \"tentativas\")\n",
    "            break\n",
    "        elif resposta == \"+\":\n",
    "            esquerda = tentativa + 1\n",
    "        elif resposta == \"-\":\n",
    "            direita = tentativa - 1\n",
    "\n",
    "def adivinha_numero_utilizador():\n",
    "    numero_escolhido = random.randint(0, 100)\n",
    "    tentativas = 0\n",
    "    \n",
    "    while True:\n",
    "        tentativa = int(input(\"Tente adivinhar o número entre 0 e 100: \"))\n",
    "        tentativas += 1\n",
    "        if tentativa == numero_escolhido:\n",
    "            print(\"Certo! Acertou em {tentativas} tentativas!\")\n",
    "            break\n",
    "        elif tentativa < numero_escolhido:\n",
    "            print(\"Não é.Tente um número maior.\")\n",
    "        else:\n",
    "            print(\"Não é.Tente um número menor.\")\n",
    "\n",
    "modo = input(\"Escolha o modo de jogo ('c' para computador ou 'u' para utilizador): \").lower()\n",
    "\n",
    "if modo == \"c\":\n",
    "    adivinha_numero_computador()\n",
    "elif modo == \"u\":\n",
    "    adivinha_numero_utilizador()\n",
    "else:\n",
    "    print(\"Modo de jogo inválido. Escolha 'c' ou 'u'.\")\n"
   ]
  },
  {
   "cell_type": "code",
   "execution_count": 7,
   "id": "6bcdceff",
   "metadata": {},
   "outputs": [
    {
     "name": "stdout",
     "output_type": "stream",
     "text": [
      "Escolha o modo de jogo ('c' para computador ou 'u' para utilizador): u\n",
      "Tente adivinhar o número entre 0 e 1000: 500\n",
      "Errado.Tente um número maior.\n",
      "Tente adivinhar o número entre 0 e 1000: 700\n",
      "Errado.Tente um número menor.\n",
      "Tente adivinhar o número entre 0 e 1000: 600\n",
      "Errado.Tente um número menor.\n",
      "Tente adivinhar o número entre 0 e 1000: 550\n",
      "Errado.Tente um número menor.\n",
      "Tente adivinhar o número entre 0 e 1000: 530\n",
      "Errado.Tente um número maior.\n",
      "Tente adivinhar o número entre 0 e 1000: 540\n",
      "Errado.Tente um número menor.\n",
      "Tente adivinhar o número entre 0 e 1000: 535\n",
      "Errado.Tente um número maior.\n",
      "Tente adivinhar o número entre 0 e 1000: 537\n",
      "Certo! Acertou em 8 tentativas!\n"
     ]
    }
   ],
   "source": [
    "import random\n",
    "\n",
    "def adivinha_numero_computador():\n",
    "    numero_escolhido = int(input(\"Pense em um número entre 0 e 1000: \"))\n",
    "    tentativas = 0\n",
    "    esquerda = 0\n",
    "    direita = 1000\n",
    "    while True:\n",
    "        tentativa = random.randint(esquerda, direita)\n",
    "        print(f\"O computador adivinhou: {tentativa}\")\n",
    "        tentativas += 1\n",
    "        resposta = input(\"Acertei? Ou o número é maior? Ou menor? Responda '+', '-' ou 'sim': \").lower()\n",
    "        if resposta == \"sim\":\n",
    "            print(\"O computator escolheu o número\", tentativa, \"e escolheu correctamente! Acertour em:\", tentativas, \"tentativas\")\n",
    "            break\n",
    "        elif resposta == \"+\":\n",
    "            esquerda = tentativa + 1\n",
    "        elif resposta == \"-\":\n",
    "            direita = tentativa - 1\n",
    "\n",
    "def adivinha_numero_utilizador():\n",
    "    numero_escolhido = random.randint(0, 1000)\n",
    "    tentativas = 0\n",
    "    \n",
    "    while True:\n",
    "        tentativa = int(input(\"Tente adivinhar o número entre 0 e 1000: \"))\n",
    "        tentativas += 1\n",
    "        if tentativa == numero_escolhido:\n",
    "            print(f\"Certo! Acertou em {tentativas} tentativas!\")\n",
    "            break\n",
    "        elif tentativa < numero_escolhido:\n",
    "            print(\"Errado.Tente um número maior.\")\n",
    "        else:\n",
    "            print(\"Errado.Tente um número menor.\")\n",
    "\n",
    "modo = input(\"Escolha o modo de jogo ('c' para computador ou 'u' para utilizador): \").lower()\n",
    "\n",
    "if modo == \"c\":\n",
    "    adivinha_numero_computador()\n",
    "elif modo == \"u\":\n",
    "    adivinha_numero_utilizador()\n",
    "else:\n",
    "    print(\"Modo de jogo inválido. Escolha 'c' ou 'u'.\")\n"
   ]
  },
  {
   "cell_type": "markdown",
   "id": "40adf64c",
   "metadata": {},
   "source": [
    "#### Que conclusão podes tirar sobre o número de tentativas necessárias para um número entre 0 e 100? E se fosse entre 0 e 1000?"
   ]
  },
  {
   "cell_type": "markdown",
   "id": "aec94a68",
   "metadata": {},
   "source": [
    "O número de tentativas necessárias para um número entre 0 e 100 será menor do que o de um número entre 0 e 1000. \n",
    "\n",
    "Se o computador ou jogador usar uma estratégia de procura binária ideal para um número entre 0 e 100, o número médio de tentativas será próximo de 6, porque a cada tentativa, o intervalo de possibilidades é reduzido pela metade enquanto que para um número entre 0 e 1000 o número médio de tentativas deve ser mais próximo de 10 tentativas. A procura binária implica a divisão repetidamente do conjunto de dados pela metade e, em seguida, determinar se o elemento que está a ser procurado está na metade esquerda ou direita do conjunto como indicado no código anterior."
   ]
  },
  {
   "cell_type": "code",
   "execution_count": null,
   "id": "99d2661a",
   "metadata": {},
   "outputs": [],
   "source": []
  }
 ],
 "metadata": {
  "kernelspec": {
   "display_name": "Python 3",
   "language": "python",
   "name": "python3"
  },
  "language_info": {
   "codemirror_mode": {
    "name": "ipython",
    "version": 3
   },
   "file_extension": ".py",
   "mimetype": "text/x-python",
   "name": "python",
   "nbconvert_exporter": "python",
   "pygments_lexer": "ipython3",
   "version": "3.8.8"
  }
 },
 "nbformat": 4,
 "nbformat_minor": 5
}
