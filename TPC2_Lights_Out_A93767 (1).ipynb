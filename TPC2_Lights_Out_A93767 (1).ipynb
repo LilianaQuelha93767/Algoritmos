{
 "cells": [
  {
   "cell_type": "markdown",
   "id": "fd44185d",
   "metadata": {},
   "source": [
    "## Manifesto do TPC2\n",
    "* *Identificador:* Algoritmos e Técnicas de Programação\n",
    "* *Título:* Lights Out!\n",
    "* *Data de início:* 2023-09-19\n",
    "* *Data de fim:* 2023-09-20\n",
    "* *Supervisores:* José Carlos Leite Ramalho, jcr@di.uminho.pt; Luís Filipe Costa Cunha, lfc@di.uminho.pt\n",
    "* *Autor:* Liliana Miranda Quelha A93767\n",
    "* *Resumo:* Este trabalho tem como objetivo criar - utilizando o programa Scratch - um jogo interactivo  onde uma estrela aparece esporadicamente num cenário nocturno e o objectivo é apanhar a estrela 10 vezes para no final o jogo nos dizer quanto tempo demorámos a apanhar 10 estrelas.\n",
    "    "
   ]
  },
  {
   "cell_type": "markdown",
   "id": "56c8d614",
   "metadata": {},
   "source": [
    "#### O ficheiro Scratch do TPC2 encontra-se no mesmo local que o manifesto: no Github.\n"
   ]
  },
  {
   "cell_type": "code",
   "execution_count": null,
   "id": "55457e2a",
   "metadata": {},
   "outputs": [],
   "source": []
  }
 ],
 "metadata": {
  "kernelspec": {
   "display_name": "Python 3",
   "language": "python",
   "name": "python3"
  },
  "language_info": {
   "codemirror_mode": {
    "name": "ipython",
    "version": 3
   },
   "file_extension": ".py",
   "mimetype": "text/x-python",
   "name": "python",
   "nbconvert_exporter": "python",
   "pygments_lexer": "ipython3",
   "version": "3.8.8"
  }
 },
 "nbformat": 4,
 "nbformat_minor": 5
}
