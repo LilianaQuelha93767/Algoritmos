{
 "cells": [
  {
   "cell_type": "markdown",
   "id": "010cd0e1",
   "metadata": {},
   "source": [
    "## Manifesto do TPC7\n",
    "* *Identificador:* Algoritmos e Técnicas de Programação\n",
    "* *Título:* Distribuição por Média\n",
    "* *Data de início:* 2021-11-23\n",
    "* *Data de fim:* 2021-11-15\n",
    "* *Supervisor:* José Carlos Leite Ramalho, jcr@di.uminho.pt\n",
    "* *Autor:* Liliana Miranda Quelha A93767\n",
    "* *Resumo:* Este trabalho tem como objetivo resolver o exercício 6,7 e 8 do TP7 através da leitura de datasets, do seu processamento e da produção de dados estatísticos utilizando representação gráfica."
   ]
  },
  {
   "cell_type": "markdown",
   "id": "626cd0bf",
   "metadata": {},
   "source": [
    "#### Distribuição por médias (exercício 6)\n",
    "\n",
    "Especifica uma função que dá como resultado uma lista de pares, média e número de alunos com essa média (considera o valor inteiro da média). "
   ]
  },
  {
   "cell_type": "code",
   "execution_count": null,
   "id": "d070a1db",
   "metadata": {},
   "outputs": [],
   "source": [
    "def distribPorMedia(d):\n",
    "    distribuicao = {}\n",
    "    for a in bd:\n",
    "        if a[3] in distribuicao.keys():\n",
    "            distribuicao[sum(a[3])/len(a[3])]= distribuicao[sum(a[3]+1)/len(a[3]+1)]\n",
    "        else:\n",
    "            distribuicao[a[3]] = 1\n",
    "    return distribuicao\n",
    "\n",
    "d=distribPorMedia(bd)\n",
    "print(d)"
   ]
  },
  {
   "cell_type": "markdown",
   "id": "254b463e",
   "metadata": {},
   "source": [
    "#### Gráfico da distribuição por curso (exercício 7)\n",
    "\n",
    "Especifica uma função que faz o plot dum gráfico com a distribuição de alunos por curso."
   ]
  },
  {
   "cell_type": "code",
   "execution_count": null,
   "id": "8d647369",
   "metadata": {},
   "outputs": [],
   "source": [
    "def distribPorCurso(bd):\n",
    "    distribuicao = {}\n",
    "    for a in bd:\n",
    "        if a[2] in distribuicao.keys():\n",
    "            distribuicao[a[2]]= distribuicao[a[2]] + 1\n",
    "        else:\n",
    "            distribuicao[a[2]] = 1\n",
    "    return distribuicao\n",
    "\n",
    "d = distribuicaoPorCurso(BD)\n",
    "print(d)\n",
    "\n",
    "def plotDistribPorCurso(???):\n",
    "    # Escreve aqui o teu código"
   ]
  },
  {
   "cell_type": "code",
   "execution_count": null,
   "id": "1bb9dad3",
   "metadata": {},
   "outputs": [],
   "source": [
    "import pandas as pd\n",
    "alunos = pd.read_csv(\"../programas/plot/alunos.csv\")\n",
    "print(alunos)"
   ]
  },
  {
   "cell_type": "code",
   "execution_count": null,
   "id": "ff722514",
   "metadata": {},
   "outputs": [],
   "source": [
    "alunos[\"tpc1\"].mean()"
   ]
  },
  {
   "cell_type": "code",
   "execution_count": null,
   "id": "78d316eb",
   "metadata": {},
   "outputs": [],
   "source": [
    "alunos[[\"tpc1\", \"tpc2\", \"tpc3\",\"tpc4\"]].mean()"
   ]
  },
  {
   "cell_type": "code",
   "execution_count": null,
   "id": "1fe35343",
   "metadata": {},
   "outputs": [],
   "source": [
    "alunos[[\"tpc1\", \"tpc2\", \"tpc3\",\"tpc4\"]].describe()"
   ]
  },
  {
   "cell_type": "code",
   "execution_count": null,
   "id": "d5431456",
   "metadata": {},
   "outputs": [],
   "source": [
    "alunos[[\"curso\", \"tpc1\"]].groupby(\"curso\").mean()"
   ]
  },
  {
   "cell_type": "code",
   "execution_count": null,
   "id": "94d2f029",
   "metadata": {},
   "outputs": [],
   "source": [
    "cont = alunos[\"curso\"].value_counts()\n",
    "print(cont.get('ENGFIS'))"
   ]
  },
  {
   "cell_type": "code",
   "execution_count": 2,
   "id": "a45edb3e",
   "metadata": {},
   "outputs": [
    {
     "ename": "NameError",
     "evalue": "name 'alunos' is not defined",
     "output_type": "error",
     "traceback": [
      "\u001b[1;31m---------------------------------------------------------------------------\u001b[0m",
      "\u001b[1;31mNameError\u001b[0m                                 Traceback (most recent call last)",
      "\u001b[1;32m<ipython-input-2-7a310e371c62>\u001b[0m in \u001b[0;36m<module>\u001b[1;34m\u001b[0m\n\u001b[1;32m----> 1\u001b[1;33m \u001b[0mcont\u001b[0m \u001b[1;33m=\u001b[0m \u001b[0malunos\u001b[0m\u001b[1;33m[\u001b[0m\u001b[1;34m\"curso\"\u001b[0m\u001b[1;33m]\u001b[0m\u001b[1;33m.\u001b[0m\u001b[0mvalue_counts\u001b[0m\u001b[1;33m(\u001b[0m\u001b[1;33m)\u001b[0m\u001b[1;33m.\u001b[0m\u001b[0mplot\u001b[0m\u001b[1;33m(\u001b[0m\u001b[0mkind\u001b[0m\u001b[1;33m=\u001b[0m\u001b[1;34m'bar'\u001b[0m\u001b[1;33m)\u001b[0m\u001b[1;33m\u001b[0m\u001b[1;33m\u001b[0m\u001b[0m\n\u001b[0m",
      "\u001b[1;31mNameError\u001b[0m: name 'alunos' is not defined"
     ]
    }
   ],
   "source": [
    "cont = alunos[\"curso\"].value_counts().plot(kind='bar')"
   ]
  },
  {
   "cell_type": "markdown",
   "id": "f7518c4a",
   "metadata": {},
   "source": [
    "#### Gráfico da distribuição por média (exercício 8)\n",
    "\n",
    "Especifica uma função que faz o plot dum gráfico com a distribuição de alunos por média."
   ]
  },
  {
   "cell_type": "code",
   "execution_count": null,
   "id": "7edbff75",
   "metadata": {},
   "outputs": [],
   "source": [
    "def plotDistribPorMedia(???):\n",
    "    # Escreve aqui o teu código"
   ]
  }
 ],
 "metadata": {
  "kernelspec": {
   "display_name": "Python 3",
   "language": "python",
   "name": "python3"
  },
  "language_info": {
   "codemirror_mode": {
    "name": "ipython",
    "version": 3
   },
   "file_extension": ".py",
   "mimetype": "text/x-python",
   "name": "python",
   "nbconvert_exporter": "python",
   "pygments_lexer": "ipython3",
   "version": "3.8.8"
  }
 },
 "nbformat": 4,
 "nbformat_minor": 5
}
