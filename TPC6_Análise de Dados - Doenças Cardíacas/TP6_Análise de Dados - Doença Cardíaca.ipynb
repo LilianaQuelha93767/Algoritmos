{
 "cells": [
  {
   "cell_type": "markdown",
   "id": "b3fc78fc",
   "metadata": {},
   "source": [
    "## Manifesto do TPC6\n",
    "* *Identificador:* Algoritmos e Técnicas de Programação\n",
    "* *Título:* Aplicação para Gerir um Cinema\n",
    "* *Data de início:* 2023-10-22\n",
    "* *Data de fim:* 2023-10-22\n",
    "* *Supervisor:* José Carlos Leite Ramalho, jcr@di.uminho.pt; Luís Filipe Costa Cunha, lfc@di.uminho.pt\n",
    "* *Autor:* Liliana Miranda Quelha A93767\n",
    "\n",
    "*Resumo:* Este trabalho tem como objetivo desenvolver um programa de tabelamento de informação referente as doença cardíacas e fatores que o influenciam. Para esse objetivo, o programa terá as seguintes funções: \n",
    "\n",
    "* função que lê a informação do ficheiro para um modelo, previamente pensado em memória;\n",
    "* função que calcula a distribuição da doença por sexo em que se deve ter em atenção que existem indivíduos doentes e não doentes no dataset;\n",
    "* função que calcula a distribuição da doença por escalões etários. Considerando os seguintes escalões: [0-10], [11-24], [25-29], [30-34], [35-39], [40-44], ...\n",
    "* função que calcula a distribuição da doença por níveis de glucose em que se coonsidera um nível igual a um intervalo de 10 unidades\n",
    "* função que imprime na forma de uma tabela uma distribuição;"
   ]
  },
  {
   "cell_type": "code",
   "execution_count": 9,
   "id": "213c714b",
   "metadata": {},
   "outputs": [
    {
     "name": "stdout",
     "output_type": "stream",
     "text": [
      "Requirement already satisfied: pandas in c:\\anaconda\\lib\\site-packages (1.2.4)\n",
      "Requirement already satisfied: numpy>=1.16.5 in c:\\anaconda\\lib\\site-packages (from pandas) (1.20.1)\n",
      "Requirement already satisfied: pytz>=2017.3 in c:\\anaconda\\lib\\site-packages (from pandas) (2021.1)\n",
      "Requirement already satisfied: python-dateutil>=2.7.3 in c:\\anaconda\\lib\\site-packages (from pandas) (2.8.1)\n",
      "Requirement already satisfied: six>=1.5 in c:\\anaconda\\lib\\site-packages (from python-dateutil>=2.7.3->pandas) (1.15.0)\n",
      "Note: you may need to restart the kernel to use updated packages.\n"
     ]
    }
   ],
   "source": [
    "pip install pandas"
   ]
  },
  {
   "cell_type": "code",
   "execution_count": null,
   "id": "db0d45a1",
   "metadata": {},
   "outputs": [],
   "source": [
    "import os\n",
    "import numpy as np\n",
    "import pandas as pd\n",
    "\n",
    "# Função para ler o arquivo CSV e carregar os dados em um DataFrame\n",
    "def carregar_dados_csv(diabetes_prediction_dataset):\n",
    "    if os.path.exists(diabetes_prediction_dataset):\n",
    "        data = pd.read_csv(diabetes_prediction_dataset)\n",
    "        return data\n",
    "    else:\n",
    "        print(\"Error: File not found\")\n",
    "        return None\n",
    "\n",
    "# Função para calcular a distribuição da doença por sexo\n",
    "def distribuicao_por_sexo(df):\n",
    "    distribuicao_sexo = df['gender'].value_counts()\n",
    "    return distribuicao_sexo\n",
    "\n",
    "# Função para calcular a distribuição da doença por escalões etários\n",
    "def distribuicao_por_idade(df):\n",
    "    bins = [0, 10, 25, 30, 35, 40, 45, 50, 55, 60, 65, 70, 75, 80, 85, 90, 95]\n",
    "    labels = ['0-10', '11-24', '25-29', '30-34', '35-39', '40-44', '45-49', '50-54', '55-59', '60-64', '65-69', '70-74', '75-79', '80-84', '85-89', '90-95']\n",
    "    df['age'] = pd.cut(df['age_group'], bins=bins, labels=labels, right=False)\n",
    "    distribuicao = df['age'].value_counts()\n",
    "    return distribuicao\n",
    "\n",
    "# Função para calcular a distribuição da doença por níveis de glucose\n",
    "def distribuicao_por_glucose(df):\n",
    "    bins = list(range(50, 200, 10))\n",
    "    df['blood_glucose_level'] = pd.cut(df['glucose'], bins=bins, right=False)\n",
    "    distribuicao = df['blood_glucose_level'].value_counts()\n",
    "    return distribuicao\n",
    "\n",
    "# Função para imprimir uma distribuição na forma de uma tabela\n",
    "def imprimir_distribuicao(distribuicao, titulo):\n",
    "    print(titulo)\n",
    "    print('-' * 40)\n",
    "    print(distribuicao)\n",
    "    print('-' * 40)\n",
    "\n",
    "# Programa principal\n",
    "if __name__ == \"__main__\":\n",
    "    file_path = \"diabetes_prediction_dataset.csv\"\n",
    "    df = carregar_dados_csv(file_path)\n",
    "\n",
    "    distribuicao_sexo = distribuicao_por_sexo(df)\n",
    "    imprimir_distribuicao(distribuicao_sexo, \"Distribuição por Sexo\")\n",
    "\n",
    "    distribuicao_idade = distribuicao_por_idade(df)\n",
    "    imprimir_distribuicao(distribuicao_idade, \"Distribuição por Escalões Etários\")\n",
    "\n",
    "    distribuicao_glucose = distribuicao_por_glucose(df)\n",
    "    imprimir_distribuicao(distribuicao_glucose, \"Distribuição por Níveis de Glucose\")"
   ]
  }
 ],
 "metadata": {
  "kernelspec": {
   "display_name": "Python 3",
   "language": "python",
   "name": "python3"
  },
  "language_info": {
   "codemirror_mode": {
    "name": "ipython",
    "version": 3
   },
   "file_extension": ".py",
   "mimetype": "text/x-python",
   "name": "python",
   "nbconvert_exporter": "python",
   "pygments_lexer": "ipython3",
   "version": "3.8.8"
  }
 },
 "nbformat": 4,
 "nbformat_minor": 5
}
